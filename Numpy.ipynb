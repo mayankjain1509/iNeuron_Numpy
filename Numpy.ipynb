{
  "nbformat": 4,
  "nbformat_minor": 0,
  "metadata": {
    "colab": {
      "name": "Numpy.ipynb",
      "provenance": []
    },
    "kernelspec": {
      "name": "python3",
      "display_name": "Python 3"
    }
  },
  "cells": [
    {
      "cell_type": "markdown",
      "metadata": {
        "id": "SzRlh8ITEzIn"
      },
      "source": [
        "Question 1:\n",
        "\n",
        "# Write a function so that the columns of the output matrix are power of the input vector . The Order of the powers is determined by the increasing boolean argument. specially, when increasing is False, the output column is the input vector raised element wise to the power of N-i-1."
      ]
    },
    {
      "cell_type": "code",
      "metadata": {
        "colab": {
          "base_uri": "https://localhost:8080/"
        },
        "id": "ktTDWvfED-Hk",
        "outputId": "2a4fdcd4-2ed0-4745-d402-24332001208e"
      },
      "source": [
        "import numpy as np\n",
        "\n",
        "x = np.array([1, 2, 3, 5])\n",
        "N = 7\n",
        "\n",
        "np.column_stack([x**(N-i-1) for i in range(N)])"
      ],
      "execution_count": 4,
      "outputs": [
        {
          "output_type": "execute_result",
          "data": {
            "text/plain": [
              "array([[    1,     1,     1,     1,     1,     1,     1],\n",
              "       [   64,    32,    16,     8,     4,     2,     1],\n",
              "       [  729,   243,    81,    27,     9,     3,     1],\n",
              "       [15625,  3125,   625,   125,    25,     5,     1]])"
            ]
          },
          "metadata": {
            "tags": []
          },
          "execution_count": 4
        }
      ]
    },
    {
      "cell_type": "markdown",
      "metadata": {
        "id": "YV33PpQoEDlY"
      },
      "source": [
        "# Question No 2\n",
        "# Moving Average \n",
        "# Write a function to find moving average in an array over a window:\n",
        "# Test it over [3, 5, 7, 2, 8, 10, 11, 65, 72, 81, 99, 100, 150] and window of 3"
      ]
    },
    {
      "cell_type": "code",
      "metadata": {
        "id": "UvZ5GHGqEEdU"
      },
      "source": [
        "import numpy as np\n",
        "import pandas as pd\n",
        "\n",
        "def moving_avg(data,window):\n",
        "    for i in range(len(data)-window):\n",
        "        y=np.sum(data[i:i+window])\n",
        "        print(y/window)"
      ],
      "execution_count": 5,
      "outputs": []
    },
    {
      "cell_type": "code",
      "metadata": {
        "colab": {
          "base_uri": "https://localhost:8080/"
        },
        "id": "PCcITkgOELUU",
        "outputId": "3758b2ef-733e-4463-a60c-1fe81f7842f2"
      },
      "source": [
        "data = [3, 5, 7, 2, 8, 10, 11, 65, 72, 81, 99, 100, 150]\n",
        "moving_avg(data,3)"
      ],
      "execution_count": 6,
      "outputs": [
        {
          "output_type": "stream",
          "text": [
            "5.0\n",
            "4.666666666666667\n",
            "5.666666666666667\n",
            "6.666666666666667\n",
            "9.666666666666666\n",
            "28.666666666666668\n",
            "49.333333333333336\n",
            "72.66666666666667\n",
            "84.0\n",
            "93.33333333333333\n"
          ],
          "name": "stdout"
        }
      ]
    }
  ]
}